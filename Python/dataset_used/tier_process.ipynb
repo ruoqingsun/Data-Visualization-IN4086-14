{
 "cells": [
  {
   "cell_type": "code",
   "execution_count": 10,
   "metadata": {
    "collapsed": false
   },
   "outputs": [
    {
     "name": "stdout",
     "output_type": "stream",
     "text": [
      "succeed\n"
     ]
    }
   ],
   "source": [
    "import numpy as np\n",
    "import pandas as pd\n",
    "#---------------------csv location------------------------------------------------\n",
    "dataLocation = r'/Users/yuliang/Documents/DataAssign1/original_data/master-zones.csv'\n",
    "data_all = pd.read_csv(dataLocation)\n",
    "#data_all_used = data_all[['match','team','player','won','tsync','tier','zone']]\n",
    "data_all_Normal = data_all[data_all['tier']=='Normal']\n",
    "data_all_Normal1 = data_all_Normal[data_all_Normal['match'] != 643216184]\n",
    "data_all_Normal2 = data_all_Normal1[data_all_Normal1['match'] != 645077087]\n",
    "data_all_Normal3 = data_all_Normal2[data_all_Normal2['match'] != 624816454].reset_index()\n",
    "#print(data_all_Normal2)\n",
    "#print(data_all_Normal)\n",
    "#data_all_High = data_all[data_all['tier']=='High']\n",
    "#data_all_High1 = data_all_High[data_all_High['match'] != 626684019]\n",
    "#data_all_High2 = data_all_High1[data_all_High1['match'] != 644374912]\n",
    "#data_all_High3 = data_all_High2[data_all_High2['match'] != 645153730].reset_index()\n",
    "#data_all_VHigh = data_all[data_all['tier']=='VeryHigh'].reset_index()\n",
    "#data_all_Pro = data_all[data_all['tier']=='Pro']\n",
    "#data_all_Pro1 = data_all_Pro[data_all_Pro['match'] != 613258812].reset_index()\n",
    "\n",
    "data_all_Normal3.to_csv('/Users/yuliang/Desktop/data_normal3.csv', sep=',', index = False)\n",
    "#data_all_High3.to_csv('/Users/yuliang/Desktop/data_high3.csv', sep=',', index = False)\n",
    "#data_all_VHigh.to_csv('/Users/yuliang/Desktop/data_vhigh.csv', sep=',', index = False)\n",
    "#data_all_Pro1.to_csv('/Users/yuliang/Desktop/data_pro1.csv', sep=',', index = False)\n",
    "print(\"succeed\")\n",
    "#dataLocation1 = r'/Users/yuliang/Desktop/data_pro.csv'\n",
    "#data_normal = pd.read_csv(dataLocation1)\n",
    "#print(data_normal)\n"
   ]
  },
  {
   "cell_type": "code",
   "execution_count": null,
   "metadata": {
    "collapsed": true
   },
   "outputs": [],
   "source": []
  }
 ],
 "metadata": {
  "kernelspec": {
   "display_name": "Python 2",
   "language": "python",
   "name": "python2"
  },
  "language_info": {
   "codemirror_mode": {
    "name": "ipython",
    "version": 2
   },
   "file_extension": ".py",
   "mimetype": "text/x-python",
   "name": "python",
   "nbconvert_exporter": "python",
   "pygments_lexer": "ipython2",
   "version": "2.7.10"
  }
 },
 "nbformat": 4,
 "nbformat_minor": 0
}
