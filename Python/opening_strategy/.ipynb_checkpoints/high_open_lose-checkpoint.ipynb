{
 "cells": [
  {
   "cell_type": "code",
   "execution_count": 3,
   "metadata": {
    "collapsed": false
   },
   "outputs": [
    {
     "name": "stdout",
     "output_type": "stream",
     "text": [
      "succeed\n"
     ]
    }
   ],
   "source": [
    "import numpy as np\n",
    "import pandas as pd\n",
    "#---------------------csv location------------------------------------------------\n",
    "dataLocation = r'/Users/yuliang/Desktop/opening_data/high/data_high.csv'\n",
    "data_normal = pd.read_csv(dataLocation)\n",
    "data_normal_used = data_normal[['oindex','x','y','match','team','player','won','tsync','tier','zone']]\n",
    "#--------------------initial state-------------------------------------------\n",
    "#data_select = data_normal_used[(data_normal_used['tsync'] == 0)|(data_normal_used['tsync'] == 1)|(data_normal_used['tsync'] == 2)|(data_normal_used['tsync'] == 3)|(data_normal_used['tsync'] == 20)]\n",
    "data_select = data_normal_used[(data_normal_used['tsync'] == 0)]\n",
    "data_select_lose = data_select[(data_select['won'] == 0)].reset_index()\n",
    "\n",
    "data_select1 = data_select_lose.replace(to_replace='bottomlane radiant', value='bottomlane')\n",
    "data_select2 = data_select1.replace(to_replace='bottomlane dire', value='bottomlane')\n",
    "data_select3 = data_select2.replace(to_replace='midlane radiant', value='midlane')\n",
    "data_select4 = data_select3.replace(to_replace='midlane dire', value='midlane')\n",
    "data_select5 = data_select4.replace(to_replace='toplane radiant', value='toplane')\n",
    "data_select6 = data_select5.replace(to_replace='toplane dire', value='toplane')\n",
    "data_select7 = data_select6.replace(to_replace='base1 radiant', value='base')\n",
    "data_select8 = data_select7.replace(to_replace='base2 dire', value='base')\n",
    "data_select9 = data_select8.replace(to_replace='void radiant', value='void')\n",
    "data_select10 = data_select9.replace(to_replace='void dire', value='void')\n",
    "data_select11 = data_select10.replace(to_replace='jungle radiant', value='jungle')\n",
    "data_select12 = data_select11.replace(to_replace='jungle dire', value='jungle')\n",
    "#DataFrame.replace(to_replace=None, value=None, inplace=False, limit=None, regex=False, method='pad', axis=None)\n",
    "data_select12.to_csv('/Users/yuliang/Desktop/high_open_lose.csv', sep=',', index = False)\n",
    "\n",
    "print(\"succeed\")\n",
    "\n",
    "\n",
    "\n",
    "\n",
    "\n",
    "\n",
    "\n",
    "\n",
    "\n"
   ]
  },
  {
   "cell_type": "code",
   "execution_count": null,
   "metadata": {
    "collapsed": true
   },
   "outputs": [],
   "source": []
  }
 ],
 "metadata": {
  "kernelspec": {
   "display_name": "Python 2",
   "language": "python",
   "name": "python2"
  },
  "language_info": {
   "codemirror_mode": {
    "name": "ipython",
    "version": 2
   },
   "file_extension": ".py",
   "mimetype": "text/x-python",
   "name": "python",
   "nbconvert_exporter": "python",
   "pygments_lexer": "ipython2",
   "version": "2.7.10"
  }
 },
 "nbformat": 4,
 "nbformat_minor": 0
}
