{
 "cells": [
  {
   "cell_type": "code",
   "execution_count": 4,
   "metadata": {
    "collapsed": false
   },
   "outputs": [
    {
     "name": "stdout",
     "output_type": "stream",
     "text": [
      "succeed\n"
     ]
    }
   ],
   "source": [
    "import numpy as np\n",
    "import pandas as pd\n",
    "#---------------------csv location------------------------------------------------\n",
    "dataLocation = r'/Users/yuliang/Desktop/change_data/pro_change_test.csv'\n",
    "data_normal = pd.read_csv(dataLocation)\n",
    "normal_change_all = data_normal.sort(['change_per_min_person'], ascending=[True]).reset_index()\n",
    "normal_change_all_final = normal_change_all[['match','team','won','tier','change_per_min_person']]\n",
    "normal_change_all_final.to_csv('/Users/yuliang/Desktop/pro_change_all.csv', index=False, sep=',' )\n",
    "print(\"succeed\")"
   ]
  },
  {
   "cell_type": "code",
   "execution_count": null,
   "metadata": {
    "collapsed": true
   },
   "outputs": [],
   "source": []
  }
 ],
 "metadata": {
  "kernelspec": {
   "display_name": "Python 2",
   "language": "python",
   "name": "python2"
  },
  "language_info": {
   "codemirror_mode": {
    "name": "ipython",
    "version": 2
   },
   "file_extension": ".py",
   "mimetype": "text/x-python",
   "name": "python",
   "nbconvert_exporter": "python",
   "pygments_lexer": "ipython2",
   "version": "2.7.10"
  }
 },
 "nbformat": 4,
 "nbformat_minor": 0
}
